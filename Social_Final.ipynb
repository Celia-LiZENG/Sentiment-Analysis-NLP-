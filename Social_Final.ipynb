{
 "cells": [
  {
   "cell_type": "code",
   "execution_count": 1,
   "metadata": {},
   "outputs": [
    {
     "name": "stderr",
     "output_type": "stream",
     "text": [
      "Using TensorFlow backend.\n"
     ]
    }
   ],
   "source": [
    "#------------Step0: Import Required Packages-------------\n",
    "import warnings\n",
    "warnings.filterwarnings('ignore')\n",
    "\n",
    "# Modules for data manipulation\n",
    "import numpy as np\n",
    "import pandas as pd\n",
    "import re\n",
    "\n",
    "# Modules for visualization\n",
    "import matplotlib.pyplot as plt\n",
    "import seaborn as sb\n",
    "%matplotlib inline\n",
    "\n",
    "# Tools for preprocessing input data\n",
    "from bs4 import BeautifulSoup\n",
    "from nltk import word_tokenize\n",
    "from nltk.corpus import stopwords\n",
    "from nltk.stem import WordNetLemmatizer\n",
    "\n",
    "# Tools for creating ngrams and vectorizing input data\n",
    "from gensim.models import Word2Vec, Phrases\n",
    "\n",
    "# Tools for building a model\n",
    "from sklearn.model_selection import train_test_split\n",
    "from keras.models import Sequential\n",
    "from keras.layers import Input, Embedding, Dropout, Conv1D, MaxPool1D, GRU, LSTM, Dense, Bidirectional\n",
    "from keras.layers.embeddings import Embedding\n",
    "from keras.preprocessing.sequence import pad_sequences\n",
    "from sklearn.linear_model import LogisticRegression\n",
    "from sklearn.svm import LinearSVC\n",
    "\n",
    "# Tools for assessing the quality of model prediction\n",
    "from sklearn.metrics import accuracy_score, confusion_matrix, roc_auc_score, roc_curve"
   ]
  },
  {
   "cell_type": "code",
   "execution_count": 2,
   "metadata": {},
   "outputs": [],
   "source": [
    "#------Step1:Data preprocessing-------------\n",
    "Neg_Data =pd.read_csv(\"complaint1700 .csv\")\n",
    "NoNeg_Data=pd.read_csv(\"noncomplaint1700.csv\")\n",
    "#Here I label two kinds of sentiment: negative as 0, non-negative as 1\n",
    "Neg_Data ['sentiment'] = 0\n",
    "NoNeg_Data ['sentiment'] = 1\n",
    "Neg_Data\n",
    "total_data = pd.concat([Neg_Data,NoNeg_Data],ignore_index=True)"
   ]
  },
  {
   "cell_type": "code",
   "execution_count": 3,
   "metadata": {},
   "outputs": [
    {
     "data": {
      "image/png": "[encoded data removed]",
      "text/plain": [
       "<Figure size 432x288 with 1 Axes>"
      ]
     },
     "metadata": {
      "needs_background": "light"
     },
     "output_type": "display_data"
    }
   ],
   "source": [
    "# Split into training (80%) and testing data (20%)\n",
    "train, test = train_test_split(\n",
    "    total_data,train_size=0.8,random_state = 8)\n",
    "#Check the class balance\n",
    "# see the distribution of 0 VS.1 in train and test (nearly 1:1, balanced dataset)\n",
    "train.groupby(['sentiment'],as_index=False).agg({'id':'count'})  #1345 VS.1375;\n",
    "test.groupby(['sentiment'],as_index=False).agg({'id':'count'})  #355 VS. 325\n",
    "\n",
    "plt.hist(train[train.sentiment == 1].sentiment,\n",
    "         bins=2, color='green', label='Non-Negative')\n",
    "plt.hist(train[train.sentiment == 0].sentiment,\n",
    "         bins=2, color='blue', label='Negative')\n",
    "plt.title('Classes distribution in the train data')\n",
    "plt.xticks([])\n",
    "plt.xlim(-0.5, 2)\n",
    "plt.legend()\n",
    "plt.show()"
   ]
  },
  {
   "cell_type": "code",
   "execution_count": 4,
   "metadata": {},
   "outputs": [
    {
     "name": "stderr",
     "output_type": "stream",
     "text": [
      "[nltk_data] Downloading package stopwords to /Users/admin/nltk_data...\n",
      "[nltk_data]   Package stopwords is already up-to-date!\n"
     ]
    }
   ],
   "source": [
    "# Data Cleaning and Text Preprocessing\n",
    "# firstly define four pre-processing functions, then combine them into one function for later use!\n",
    "\n",
    "#clean1: Return input string with only letters (no punctuation, no numbers)\n",
    "def letters_only(text):\n",
    "    return re.sub(\"[^a-zA-Z]\", \" \", text)\n",
    "\n",
    "#clean2: lower the data\n",
    "def clean_review(review):\n",
    "    return letters_only(html_to_text(review)).lower()\n",
    "\n",
    "#clean3:lemmatize data\n",
    "def lemmatize(tokens: list) -> list:\n",
    "    # 1. Lemmatize\n",
    "    tokens = list(map(lemmatizer.lemmatize, tokens))\n",
    "    lemmatized_tokens = list(map(lambda x: lemmatizer.lemmatize(x, \"v\"), tokens))\n",
    "    # 2. Remove stop words\n",
    "    meaningful_words = list(filter(lambda x: not x in stop_words, lemmatized_tokens))\n",
    "    return meaningful_words\n",
    "\n",
    "\n",
    "#clean4: Return extracted text string from provided HTML string.\n",
    "def html_to_text(review):\n",
    "    review_text = BeautifulSoup(review, \"lxml\").get_text()\n",
    "    if len(review_text) == 0:\n",
    "        review_text = review\n",
    "    review_text = re.sub(r\"\\<.*\\>\", \"\", review_text)\n",
    "    try:\n",
    "        review_text = review_text.encode('ascii', 'ignore').decode('ascii')\n",
    "    except UnicodeDecodeError:\n",
    "        review_text = review_text.decode(\"ascii\", \"ignore\")\n",
    "    return review_text\n",
    "\n",
    "#-----------------for convenience, combine all those four function into one---------------\n",
    "#Notice：later I will use this combined function to deal submission data (comment in'tweet' column)\n",
    "def preprocess(review: str, total: int, show_progress: bool = True) -> list:\n",
    "    if show_progress:\n",
    "        global counter\n",
    "        counter += 1\n",
    "        print('Processing... %6i/%6i'% (counter, total), end='\\r')\n",
    "    # 1. Clean text\n",
    "    review = clean_review(review)\n",
    "    # 2. Split into individual words\n",
    "    tokens = word_tokenize(review)\n",
    "    # 3. Lemmatize\n",
    "    lemmas = lemmatize(tokens)\n",
    "    # 4. Join the words back into one string separated by space,\n",
    "    # and return the result.\n",
    "    return lemmas\n",
    "\n",
    "import nltk\n",
    "nltk.download('stopwords')\n",
    "counter = 0\n",
    "REPLACE_WITH_SPACE = re.compile(r'[^A-Za-z\\s]')\n",
    "stop_words = set(stopwords.words(\"english\")) \n",
    "lemmatizer = WordNetLemmatizer()"
   ]
  },
  {
   "cell_type": "code",
   "execution_count": 42,
   "metadata": {},
   "outputs": [
    {
     "name": "stderr",
     "output_type": "stream",
     "text": [
      "[nltk_data] Downloading package wordnet to /Users/admin/nltk_data...\n",
      "[nltk_data]   Package wordnet is already up-to-date!\n"
     ]
    },
    {
     "name": "stdout",
     "output_type": "stream",
     "text": [
      "Total number of tweets: 3400\n",
      "Processing...   3400/  3400\r"
     ]
    }
   ],
   "source": [
    "import nltk\n",
    "nltk.download('wordnet')\n",
    "all_data = [train, test]\n",
    "\n",
    "#Note that: use preproceesing function to 'tweet' column, but NOT on the sentiment score!\n",
    "all_reviews = np.array([], dtype=str)\n",
    "for dataset in all_data:\n",
    "    all_reviews = np.concatenate((all_reviews, dataset.tweet), axis=0)\n",
    "print('Total number of tweets:', len(all_reviews))\n",
    "\n",
    "#all_reviews wii return to a list(every tweet will have one list): ONLY includes the words which may influence the sentiment score\n",
    "all_reviews = np.array(list(map(lambda x: preprocess(x, len(all_reviews)), all_reviews)))\n",
    "counter = 0\n",
    "\n",
    "X_train_data = all_reviews[:train.shape[0]]\n",
    "Y_train_data = train.sentiment.values\n",
    "\n",
    "#Notice: this test data is used for later three model selection!\n",
    "X_test_data = all_reviews[:-train.shape[0]]\n",
    "Y_test_data = test.sentiment.values"
   ]
  },
  {
   "cell_type": "code",
   "execution_count": 6,
   "metadata": {},
   "outputs": [
    {
     "data": {
      "image/png": "[encoded data removed]",
      "text/plain": [
       "<Figure size 432x288 with 1 Axes>"
      ]
     },
     "metadata": {
      "needs_background": "light"
     },
     "output_type": "display_data"
    }
   ],
   "source": [
    "#Simple Explonatroy Data Analytics\n",
    "#Draw the distribution for words in per tweet\n",
    "train['comment_length'] = np.array(list(map(len, X_train_data)))\n",
    "median = train['comment_length'].median()\n",
    "mean = train['comment_length'].mean()\n",
    "mode = train['comment_length'].mode()[0]\n",
    "\n",
    "fig, ax = plt.subplots()\n",
    "sb.distplot(train['comment_length'], bins=train['comment_length'].max(),\n",
    "            hist_kws={\"alpha\": 0.8, \"color\": \"blue\"}, ax=ax,\n",
    "            kde_kws={\"color\": \"black\", 'linewidth': 3})\n",
    "ax.set_xlim(left=0, right=np.percentile(train['comment_length'], 100))\n",
    "ax.set_xlabel('Words length in tweet')\n",
    "ymax = 0.15\n",
    "plt.ylim(0, ymax)\n",
    "ax.plot([mode, mode], [0, ymax], '--', label=f'mode = {mode:.2f}', linewidth=6)\n",
    "ax.plot([mean, mean], [0, ymax], '--', label=f'mean = {mean:.2f}', linewidth=4)\n",
    "ax.plot([median, median], [0, ymax], '--',\n",
    "        label=f'median = {median:.2f}', linewidth=4)\n",
    "ax.set_title('Words Length in Tweet Distribution', fontsize=20)\n",
    "plt.legend()\n",
    "plt.show()"
   ]
  },
  {
   "cell_type": "code",
   "execution_count": 7,
   "metadata": {},
   "outputs": [],
   "source": [
    "#-----Step3: Build the model---------------"
   ]
  },
  {
   "cell_type": "code",
   "execution_count": 9,
   "metadata": {},
   "outputs": [
    {
     "name": "stdout",
     "output_type": "stream",
     "text": [
      "Vocabulary size: 1660\n"
     ]
    }
   ],
   "source": [
    "#1. Build word vector (use gensim's word2vec model to build a word embedding)\n",
    "#2. Use the word2vec model to define most similar words and calculate diffence between the words\n",
    "#3. Use all the tweet content to build bigrams and trigrams\n",
    "bigrams = Phrases(sentences=all_reviews)\n",
    "trigrams = Phrases(sentences=bigrams[all_reviews])\n",
    "embedding_vector_size = 256\n",
    "trigrams_model = Word2Vec(\n",
    "    sentences = trigrams[bigrams[all_reviews]],\n",
    "    size = embedding_vector_size,\n",
    "    min_count=3, window=5, workers=4)\n",
    "print(\"Vocabulary size:\", len(trigrams_model.wv.vocab))\n",
    "\n",
    "#Define functions for later use!\n",
    "def vectorize_data(data, vocab: dict) -> list:\n",
    "    keys = list(vocab.keys())\n",
    "    filter_unknown = lambda word: vocab.get(word, None) is not None\n",
    "    encode = lambda review: list(map(keys.index, filter(filter_unknown, review)))\n",
    "    vectorized = list(map(encode, data))\n",
    "    return vectorized"
   ]
  },
  {
   "cell_type": "code",
   "execution_count": null,
   "metadata": {},
   "outputs": [],
   "source": [
    "#Deal with X_training:trigram+vectorize\n",
    "#Step1: Convert sentences to sentences with ngrams\n",
    "X_data = trigrams[bigrams[X_train_data]]\n",
    "MAX_REVIEW_LENGTH = 150\n",
    "#Step2: Transform sentences to sequences\n",
    "X_pad = pad_sequences(sequences=vectorize_data(X_data, vocab=trigrams_model.wv.vocab), maxlen=MAX_REVIEW_LENGTH, padding='post')"
   ]
  },
  {
   "cell_type": "code",
   "execution_count": null,
   "metadata": {},
   "outputs": [],
   "source": [
    "#Split Data for later evlation use\n",
    "X_train, X_test, y_train, y_test = train_test_split(X_pad, Y_train_data, test_size=0.05, shuffle=True, random_state=42)"
   ]
  },
  {
   "cell_type": "code",
   "execution_count": 25,
   "metadata": {},
   "outputs": [
    {
     "name": "stdout",
     "output_type": "stream",
     "text": [
      "The AUC socre for Logistic Regression model is : 0.5219.\n"
     ]
    },
    {
     "data": {
      "image/png": "[encoded data removed]",
      "text/plain": [
       "<Figure size 432x288 with 1 Axes>"
      ]
     },
     "metadata": {
      "needs_background": "light"
     },
     "output_type": "display_data"
    }
   ],
   "source": [
    "#-----Model Choice1: Logistic Regression---------------\n",
    "#-------Train Model----------\n",
    "logreg = LogisticRegression()\n",
    "from sklearn.multiclass import OneVsRestClassifier\n",
    "ovr = OneVsRestClassifier(logreg)\n",
    "ovr.fit(X_train, y_train)\n",
    "#--------Evaluation---------\n",
    "y_test_pred_ovr = ovr.predict(X_test)\n",
    "print(\"The AUC socre for Logistic Regression model is : %.4f.\" %roc_auc_score(y_test, y_test_pred_ovr))\n",
    "y_pred_list = [y_test_pred_ovr]\n",
    "label_list = [\"OneVsRestClassifier\"]\n",
    "pred_label = zip(y_pred_list, label_list)\n",
    "for y_pred, lbl in pred_label:\n",
    "    fpr, tpr, _ = roc_curve(y_test, y_pred)\n",
    "    plt.plot(fpr, tpr, label = lbl)\n",
    "\n",
    "plt.xlabel(\"True Postive Rate\")\n",
    "plt.ylabel(\"False Positive Rate\")\n",
    "plt.title(\"ROC Curve for Logistic Regression Models\")\n",
    "plt.legend()\n",
    "plt.show()"
   ]
  },
  {
   "cell_type": "code",
   "execution_count": 26,
   "metadata": {},
   "outputs": [
    {
     "name": "stdout",
     "output_type": "stream",
     "text": [
      "The AUC socre for Linear SVC model is : 0.5219.\n"
     ]
    },
    {
     "data": {
      "image/png": "[encoded data removed]",
      "text/plain": [
       "<Figure size 432x288 with 1 Axes>"
      ]
     },
     "metadata": {
      "needs_background": "light"
     },
     "output_type": "display_data"
    }
   ],
   "source": [
    "#-----Model Choice2: Linear SVC---------------\n",
    "#-------Train Model----------\n",
    "svc = LinearSVC(dual=False)\n",
    "svc.fit(X_train, y_train)\n",
    "#--------Evaluation---------\n",
    "y_test_pred_svc = svc.predict(X_test)\n",
    "print(\"The AUC socre for Linear SVC model is : %.4f.\" %roc_auc_score(y_test, y_test_pred_svc))\n",
    "y_pred_list = [y_test_pred_svc]\n",
    "label_list = [\"Linear SVC\"]\n",
    "pred_label = zip(y_pred_list, label_list)\n",
    "for y_pred, lbl in pred_label:\n",
    "    fpr, tpr, _ = roc_curve(y_test, y_pred)\n",
    "    plt.plot(fpr, tpr, label = lbl)\n",
    "\n",
    "plt.xlabel(\"True Postive Rate\")\n",
    "plt.ylabel(\"False Positive Rate\")\n",
    "plt.title(\"ROC Curve for Linear SVC Models\")\n",
    "plt.legend()\n",
    "plt.show()"
   ]
  },
  {
   "cell_type": "code",
   "execution_count": 10,
   "metadata": {},
   "outputs": [
    {
     "name": "stdout",
     "output_type": "stream",
     "text": [
      "Model: \"sequential_1\"\n",
      "_________________________________________________________________\n",
      "Layer (type)                 Output Shape              Param #   \n",
      "=================================================================\n",
      "embedding_1 (Embedding)      (None, 150, 256)          424960    \n",
      "_________________________________________________________________\n",
      "bidirectional_1 (Bidirection (None, 256)               394240    \n",
      "_________________________________________________________________\n",
      "dropout_1 (Dropout)          (None, 256)               0         \n",
      "_________________________________________________________________\n",
      "dense_1 (Dense)              (None, 64)                16448     \n",
      "_________________________________________________________________\n",
      "dropout_2 (Dropout)          (None, 64)                0         \n",
      "_________________________________________________________________\n",
      "dense_2 (Dense)              (None, 1)                 65        \n",
      "=================================================================\n",
      "Total params: 835,713\n",
      "Trainable params: 410,753\n",
      "Non-trainable params: 424,960\n",
      "_________________________________________________________________\n",
      "WARNING:tensorflow:From /Users/admin/anaconda3/lib/python3.7/site-packages/tensorflow/python/ops/nn_impl.py:180: add_dispatch_support.<locals>.wrapper (from tensorflow.python.ops.array_ops) is deprecated and will be removed in a future version.\n",
      "Instructions for updating:\n",
      "Use tf.where in 2.0, which has the same broadcast rule as np.where\n",
      "WARNING:tensorflow:From /Users/admin/anaconda3/lib/python3.7/site-packages/keras/backend/tensorflow_backend.py:422: The name tf.global_variables is deprecated. Please use tf.compat.v1.global_variables instead.\n",
      "\n",
      "Train on 2584 samples, validate on 136 samples\n",
      "Epoch 1/20\n",
      "2584/2584 [==============================] - 45s 17ms/step - loss: 0.7144 - accuracy: 0.5046 - val_loss: 0.6940 - val_accuracy: 0.5294\n",
      "Epoch 2/20\n",
      "2584/2584 [==============================] - 40s 15ms/step - loss: 0.6941 - accuracy: 0.5298 - val_loss: 0.6960 - val_accuracy: 0.5515\n",
      "Epoch 3/20\n",
      "2584/2584 [==============================] - 39s 15ms/step - loss: 0.6965 - accuracy: 0.5290 - val_loss: 0.7157 - val_accuracy: 0.4485\n",
      "Epoch 4/20\n",
      "2584/2584 [==============================] - 39s 15ms/step - loss: 0.6869 - accuracy: 0.5449 - val_loss: 0.7140 - val_accuracy: 0.4412\n",
      "Epoch 5/20\n",
      "2584/2584 [==============================] - 40s 15ms/step - loss: 0.6848 - accuracy: 0.5561 - val_loss: 0.7087 - val_accuracy: 0.4706\n",
      "Epoch 6/20\n",
      "2584/2584 [==============================] - 40s 16ms/step - loss: 0.6848 - accuracy: 0.5588 - val_loss: 0.7168 - val_accuracy: 0.4632\n",
      "Epoch 7/20\n",
      "2584/2584 [==============================] - 39s 15ms/step - loss: 0.6788 - accuracy: 0.5666 - val_loss: 0.7482 - val_accuracy: 0.4632\n",
      "Epoch 8/20\n",
      "2584/2584 [==============================] - 40s 15ms/step - loss: 0.6813 - accuracy: 0.5762 - val_loss: 0.7249 - val_accuracy: 0.4559\n",
      "Epoch 9/20\n",
      "2584/2584 [==============================] - 39s 15ms/step - loss: 0.6787 - accuracy: 0.5751 - val_loss: 0.7165 - val_accuracy: 0.5000\n",
      "Epoch 10/20\n",
      "2584/2584 [==============================] - 40s 15ms/step - loss: 0.6832 - accuracy: 0.5677 - val_loss: 0.7130 - val_accuracy: 0.4706\n",
      "Epoch 11/20\n",
      "2584/2584 [==============================] - 39s 15ms/step - loss: 0.6790 - accuracy: 0.5712 - val_loss: 0.7140 - val_accuracy: 0.4779\n",
      "Epoch 12/20\n",
      "2584/2584 [==============================] - 40s 15ms/step - loss: 0.6804 - accuracy: 0.5670 - val_loss: 0.7124 - val_accuracy: 0.5074\n",
      "Epoch 13/20\n",
      "2584/2584 [==============================] - 39s 15ms/step - loss: 0.6787 - accuracy: 0.5743 - val_loss: 0.7273 - val_accuracy: 0.4853\n",
      "Epoch 14/20\n",
      "2584/2584 [==============================] - 39s 15ms/step - loss: 0.6793 - accuracy: 0.5786 - val_loss: 0.7184 - val_accuracy: 0.5074\n",
      "Epoch 15/20\n",
      "2584/2584 [==============================] - 41s 16ms/step - loss: 0.6756 - accuracy: 0.5890 - val_loss: 0.7135 - val_accuracy: 0.4926\n",
      "Epoch 16/20\n",
      "2584/2584 [==============================] - 42s 16ms/step - loss: 0.6753 - accuracy: 0.5863 - val_loss: 0.7131 - val_accuracy: 0.5147\n",
      "Epoch 17/20\n",
      "2584/2584 [==============================] - 44s 17ms/step - loss: 0.6784 - accuracy: 0.5840 - val_loss: 0.7057 - val_accuracy: 0.4926\n",
      "Epoch 18/20\n",
      "2584/2584 [==============================] - 41s 16ms/step - loss: 0.6766 - accuracy: 0.5782 - val_loss: 0.7149 - val_accuracy: 0.4853\n",
      "Epoch 19/20\n",
      "2584/2584 [==============================] - 41s 16ms/step - loss: 0.6755 - accuracy: 0.5871 - val_loss: 0.7250 - val_accuracy: 0.5221\n",
      "Epoch 20/20\n",
      "2584/2584 [==============================] - 44s 17ms/step - loss: 0.6742 - accuracy: 0.5933 - val_loss: 0.7090 - val_accuracy: 0.4632\n"
     ]
    }
   ],
   "source": [
    "#-----Model Choice3:RNN Model Architecture---------------\n",
    "#-------------LSTM Model + GRU Model---------------\n",
    "#Step1: Convert sentences to sentences with ngrams\n",
    "X_data = trigrams[bigrams[X_train_data]]\n",
    "MAX_REVIEW_LENGTH = 150\n",
    "\n",
    "#Step2: Transform sentences to sequences\n",
    "X_pad = pad_sequences(sequences=vectorize_data(X_data, vocab=trigrams_model.wv.vocab), maxlen=MAX_REVIEW_LENGTH, padding='post')\n",
    "\n",
    "def build_model(embedding_matrix: np.ndarray, input_length: int,  use_lstm: bool):\n",
    "    model = Sequential()\n",
    "    model.add(Embedding(\n",
    "        input_dim = embedding_matrix.shape[0],\n",
    "        output_dim = embedding_matrix.shape[1], \n",
    "        input_length = input_length,\n",
    "        weights = [embedding_matrix],\n",
    "        trainable=False))\n",
    "    if use_lstm:\n",
    "        model.add(Bidirectional(LSTM(128, recurrent_dropout=0.1)))\n",
    "    else:\n",
    "        model.add(Bidirectional(GRU(128, recurrent_dropout=0.1)))\n",
    "    model.add(Dropout(0.25))\n",
    "    model.add(Dense(64))\n",
    "    model.add(Dropout(0.3))\n",
    "    model.add(Dense(1, activation='sigmoid'))\n",
    "    model.summary()\n",
    "    return model\n",
    "\n",
    "lstm_model = build_model(embedding_matrix=trigrams_model.wv.vectors, input_length=MAX_REVIEW_LENGTH, use_lstm=True)\n",
    "lstm_model.compile(loss=\"binary_crossentropy\", optimizer='adam', metrics=['accuracy'])\n",
    "X_train, X_test, y_train, y_test = train_test_split(X_pad, Y_train_data, test_size=0.05, shuffle=True, random_state=42)\n",
    "history = lstm_model.fit(x=X_train, y=y_train, validation_data=(X_test, y_test), batch_size=100, epochs=20)"
   ]
  },
  {
   "cell_type": "code",
   "execution_count": 11,
   "metadata": {},
   "outputs": [
    {
     "name": "stdout",
     "output_type": "stream",
     "text": [
      "Model: \"sequential_2\"\n",
      "_________________________________________________________________\n",
      "Layer (type)                 Output Shape              Param #   \n",
      "=================================================================\n",
      "embedding_2 (Embedding)      (None, 150, 256)          424960    \n",
      "_________________________________________________________________\n",
      "bidirectional_2 (Bidirection (None, 256)               295680    \n",
      "_________________________________________________________________\n",
      "dropout_3 (Dropout)          (None, 256)               0         \n",
      "_________________________________________________________________\n",
      "dense_3 (Dense)              (None, 64)                16448     \n",
      "_________________________________________________________________\n",
      "dropout_4 (Dropout)          (None, 64)                0         \n",
      "_________________________________________________________________\n",
      "dense_4 (Dense)              (None, 1)                 65        \n",
      "=================================================================\n",
      "Total params: 737,153\n",
      "Trainable params: 312,193\n",
      "Non-trainable params: 424,960\n",
      "_________________________________________________________________\n",
      "Train on 2584 samples, validate on 136 samples\n",
      "Epoch 1/20\n",
      "2584/2584 [==============================] - 57s 22ms/step - loss: 0.7349 - accuracy: 0.4981 - val_loss: 0.6932 - val_accuracy: 0.5221\n",
      "Epoch 2/20\n",
      "2584/2584 [==============================] - 47s 18ms/step - loss: 0.9489 - accuracy: 0.5383 - val_loss: 0.6999 - val_accuracy: 0.4853\n",
      "Epoch 3/20\n",
      "2584/2584 [==============================] - 46s 18ms/step - loss: 0.7045 - accuracy: 0.5070 - val_loss: 0.6974 - val_accuracy: 0.5147\n",
      "Epoch 4/20\n",
      "2584/2584 [==============================] - 44s 17ms/step - loss: 0.6929 - accuracy: 0.5267 - val_loss: 0.7103 - val_accuracy: 0.4265\n",
      "Epoch 5/20\n",
      "2584/2584 [==============================] - 47s 18ms/step - loss: 0.6933 - accuracy: 0.5387 - val_loss: 0.7045 - val_accuracy: 0.4779\n",
      "Epoch 6/20\n",
      "2584/2584 [==============================] - 49s 19ms/step - loss: 0.6931 - accuracy: 0.5461 - val_loss: 0.7025 - val_accuracy: 0.5074\n",
      "Epoch 7/20\n",
      "2584/2584 [==============================] - 49s 19ms/step - loss: 0.6942 - accuracy: 0.5488 - val_loss: 0.7049 - val_accuracy: 0.5221\n",
      "Epoch 8/20\n",
      "2584/2584 [==============================] - 48s 18ms/step - loss: 0.6980 - accuracy: 0.5298 - val_loss: 0.7182 - val_accuracy: 0.4265\n",
      "Epoch 9/20\n",
      "2584/2584 [==============================] - 51s 20ms/step - loss: 0.6913 - accuracy: 0.5588 - val_loss: 0.7120 - val_accuracy: 0.4412\n",
      "Epoch 10/20\n",
      "2584/2584 [==============================] - 46s 18ms/step - loss: 0.6983 - accuracy: 0.5387 - val_loss: 0.7046 - val_accuracy: 0.4926\n",
      "Epoch 11/20\n",
      "2584/2584 [==============================] - 46s 18ms/step - loss: 0.6877 - accuracy: 0.5557 - val_loss: 0.7054 - val_accuracy: 0.5368\n",
      "Epoch 12/20\n",
      "2584/2584 [==============================] - 45s 17ms/step - loss: 0.6941 - accuracy: 0.5526 - val_loss: 0.7076 - val_accuracy: 0.4926\n",
      "Epoch 13/20\n",
      "2584/2584 [==============================] - 48s 19ms/step - loss: 0.7018 - accuracy: 0.5375 - val_loss: 0.7033 - val_accuracy: 0.5074\n",
      "Epoch 14/20\n",
      "2584/2584 [==============================] - 42s 16ms/step - loss: 6.7204 - accuracy: 0.5159 - val_loss: 0.7011 - val_accuracy: 0.4118\n",
      "Epoch 15/20\n",
      "2584/2584 [==============================] - 43s 16ms/step - loss: 0.7090 - accuracy: 0.5124 - val_loss: 0.7028 - val_accuracy: 0.5368\n",
      "Epoch 16/20\n",
      "2584/2584 [==============================] - 43s 17ms/step - loss: 0.7038 - accuracy: 0.5294 - val_loss: 0.7027 - val_accuracy: 0.5221\n",
      "Epoch 17/20\n",
      "2584/2584 [==============================] - 46s 18ms/step - loss: 0.7046 - accuracy: 0.5306 - val_loss: 0.7008 - val_accuracy: 0.5074\n",
      "Epoch 18/20\n",
      "2584/2584 [==============================] - 43s 17ms/step - loss: 0.7106 - accuracy: 0.5182 - val_loss: 0.7081 - val_accuracy: 0.4338\n",
      "Epoch 19/20\n",
      "2584/2584 [==============================] - 43s 17ms/step - loss: 0.7016 - accuracy: 0.5379 - val_loss: 0.7167 - val_accuracy: 0.4559\n",
      "Epoch 20/20\n",
      "2584/2584 [==============================] - 42s 16ms/step - loss: 0.6990 - accuracy: 0.5418 - val_loss: 0.7014 - val_accuracy: 0.5368\n",
      "The AUC socre for GRU model is : 0.4513.\n",
      "The AUC socre for LSTM model is : 0.4860.\n"
     ]
    },
    {
     "data": {
      "image/png": "[encoded data removed]",
      "text/plain": [
       "<Figure size 432x288 with 1 Axes>"
      ]
     },
     "metadata": {
      "needs_background": "light"
     },
     "output_type": "display_data"
    }
   ],
   "source": [
    "#---------------Evaluation: use accuracy + ROC-----------------\n",
    "from sklearn.metrics import accuracy_score, roc_auc_score, roc_curve\n",
    "from keras.layers import Input, Embedding, Dropout, Conv1D, MaxPool1D, GRU, LSTM, Dense\n",
    "\n",
    "gru_model = build_model(embedding_matrix=trigrams_model.wv.vectors, input_length=MAX_REVIEW_LENGTH, use_lstm=False)\n",
    "gru_model.compile(loss=\"binary_crossentropy\", optimizer='adam', metrics=['accuracy'])\n",
    "gru_model.fit(x=X_train, y=y_train, validation_data=(X_test, y_test), batch_size=100, epochs=20)\n",
    "\n",
    "y_test_pred_lstm = lstm_model.predict(X_test)\n",
    "y_test_pred_gru = gru_model.predict(X_test)\n",
    "print(\"The AUC socre for GRU model is : %.4f.\" %roc_auc_score(y_test, y_test_pred_gru))\n",
    "print(\"The AUC socre for LSTM model is : %.4f.\" %roc_auc_score(y_test, y_test_pred_lstm))\n",
    "\n",
    "y_pred_list = [y_test_pred_gru, y_test_pred_lstm]\n",
    "label_list = [\"GRU\", \"LSTM\"]\n",
    "pred_label = zip(y_pred_list, label_list)\n",
    "for y_pred, lbl in pred_label:\n",
    "    fpr, tpr, _ = roc_curve(y_test, y_pred)\n",
    "    plt.plot(fpr, tpr, label = lbl)\n",
    "\n",
    "plt.xlabel(\"True Postive Rate\")\n",
    "plt.ylabel(\"False Positive Rate\")\n",
    "plt.title(\"ROC Curve for RNN Models\")\n",
    "plt.legend()\n",
    "plt.show()"
   ]
  },
  {
   "cell_type": "code",
   "execution_count": 13,
   "metadata": {},
   "outputs": [
    {
     "data": {
      "image/png": "[encoded data removed]",
      "text/plain": [
       "<Figure size 432x288 with 2 Axes>"
      ]
     },
     "metadata": {
      "needs_background": "light"
     },
     "output_type": "display_data"
    }
   ],
   "source": [
    "y_train_pred = lstm_model.predict_classes(X_train)\n",
    "y_test_pred = lstm_model.predict_classes(X_test)\n",
    "\n",
    "def plot_confusion_matrix(y_true, y_pred, ax, class_names, vmax=None,\n",
    "                          normed=True, title='Confusion matrix'):\n",
    "    matrix = confusion_matrix(y_true,y_pred)\n",
    "    if normed:\n",
    "        matrix = matrix.astype('float') / matrix.sum(axis=1)[:, np.newaxis]\n",
    "    sb.heatmap(matrix, vmax=vmax, annot=True, square=True, ax=ax,\n",
    "               cmap=plt.cm.Blues_r, cbar=False, linecolor='black',\n",
    "               linewidths=1, xticklabels=class_names)\n",
    "    ax.set_title(title, y=1.20, fontsize=16)\n",
    "    #ax.set_ylabel('True labels', fontsize=12)\n",
    "    ax.set_xlabel('Predicted labels', y=1.10, fontsize=12)\n",
    "    ax.set_yticklabels(class_names, rotation=0)\n",
    "fig, (axis1, axis2) = plt.subplots(nrows=1, ncols=2)\n",
    "plot_confusion_matrix(y_train, y_train_pred, ax=axis1,\n",
    "                      title='Confusion matrix (train data)',\n",
    "                      class_names=['Positive', 'Negative'])\n",
    "plot_confusion_matrix(y_test, y_test_pred, ax=axis2,\n",
    "                      title='Confusion matrix (test data)',\n",
    "                      class_names=['Positive', 'Negative'])\n"
   ]
  },
  {
   "cell_type": "code",
   "execution_count": null,
   "metadata": {},
   "outputs": [],
   "source": [
    "#------< Last Setp: SVC Prediction for the Required Data>------------\n",
    "all_submit_data = pd.read_csv('project_Data.csv')\n",
    "tweet_submit= all_submit_data['tweet']\n",
    "tweet_submit = np.array(list(map(lambda x: preprocess(x, len(tweet_submit)), tweet_submit)))\n",
    "counter = 0\n",
    "X_submission = trigrams[bigrams[tweet_submit]]\n",
    "print('Convert sentences to sentences with ngrams... (done)')\n",
    "X_submission_pad = pad_sequences(\n",
    "    sequences=vectorize_data(X_submission, vocab=trigrams_model.wv.vocab),\n",
    "    maxlen=MAX_REVIEW_LENGTH,\n",
    "    padding='post')\n",
    "print('Transform sentences to sequences... (done)')\n",
    "predictions = svc.predict(X_submission_pad)\n",
    "submission = pd.DataFrame()\n",
    "submission['id'] = all_submit_data['id']\n",
    "submission['sentiment_evaluation'] = abs(predictions-1)\n",
    "submission['tweet']=all_submit_data['tweet']\n",
    "submission.loc[submission.sentiment_evaluation ==0,'tweet'] = np.nan\n",
    "print('accuracy for the submitted data is:',sum(submission['sentiment_evaluation'])/len(submission['sentiment_evaluation']))"
   ]
  },
  {
   "cell_type": "code",
   "execution_count": 49,
   "metadata": {},
   "outputs": [
    {
     "name": "stdout",
     "output_type": "stream",
     "text": [
      "Convert sentences to sentences with ngrams... (done)\n",
      "Transform sentences to sequences... (done)\n",
      "accuracy for the submitted data is: 0.45115257958287597\n"
     ]
    }
   ],
   "source": [
    "#------< Last Setp: Logistic Regression Prediction for the Required Data>------------\n",
    "all_submit_data = pd.read_csv('project_Data.csv')\n",
    "tweet_submit= all_submit_data['tweet']\n",
    "tweet_submit = np.array(list(map(lambda x: preprocess(x, len(tweet_submit)), tweet_submit)))\n",
    "counter = 0\n",
    "X_submission = trigrams[bigrams[tweet_submit]]\n",
    "print('Convert sentences to sentences with ngrams... (done)')\n",
    "X_submission_pad = pad_sequences(\n",
    "    sequences=vectorize_data(X_submission, vocab=trigrams_model.wv.vocab),\n",
    "    maxlen=MAX_REVIEW_LENGTH,\n",
    "    padding='post')\n",
    "print('Transform sentences to sequences... (done)')\n",
    "predictions = ovr.predict(X_submission_pad)\n",
    "submission = pd.DataFrame()\n",
    "submission['id'] = all_submit_data['id']\n",
    "submission['sentiment_evaluation'] = abs(predictions-1)\n",
    "submission['tweet']=all_submit_data['tweet']\n",
    "submission.loc[submission.sentiment_evaluation ==0,'tweet'] = np.nan\n",
    "print('accuracy for the submitted data is:',sum(submission['sentiment_evaluation'])/len(submission['sentiment_evaluation']))"
   ]
  },
  {
   "cell_type": "code",
   "execution_count": 52,
   "metadata": {},
   "outputs": [
    {
     "name": "stdout",
     "output_type": "stream",
     "text": [
      "Convert sentences to sentences with ngrams... (done)\n",
      "Transform sentences to sequences... (done)\n",
      "the final accuracy for the submitted data is: 0.49176728869374314\n"
     ]
    }
   ],
   "source": [
    "#------< Last Setp: Prediction for the Required Data>------------\n",
    "all_submit_data = pd.read_csv('project_Data.csv')\n",
    "tweet_submit= all_submit_data['tweet']\n",
    "tweet_submit = np.array(list(map(lambda x: preprocess(x, len(tweet_submit)), tweet_submit)))\n",
    "counter = 0\n",
    "X_submission = trigrams[bigrams[tweet_submit]]\n",
    "print('Convert sentences to sentences with ngrams... (done)')\n",
    "X_submission_pad = pad_sequences(\n",
    "    sequences=vectorize_data(X_submission, vocab=trigrams_model.wv.vocab),\n",
    "    maxlen=MAX_REVIEW_LENGTH,\n",
    "    padding='post')\n",
    "print('Transform sentences to sequences... (done)')\n",
    "\n",
    "predictions = lstm_model.predict_classes(X_submission_pad)\n",
    "\n",
    "submission = pd.DataFrame()\n",
    "submission['id'] = all_submit_data['id']\n",
    "submission['sentiment_evaluation'] = abs(predictions-1)\n",
    "submission['tweet']=all_submit_data['tweet']\n",
    "submission.loc[submission.sentiment_evaluation ==0,'tweet'] = np.nan\n",
    "print('the final accuracy for the submitted data is:',sum(submission['sentiment_evaluation'])/len(submission['sentiment_evaluation']))"
   ]
  },
  {
   "cell_type": "code",
   "execution_count": 54,
   "metadata": {},
   "outputs": [],
   "source": [
    "submission.to_csv('submission_DeepLearning.csv',index=False)"
   ]
  },
  {
   "cell_type": "code",
   "execution_count": null,
   "metadata": {},
   "outputs": [],
   "source": []
  }
 ],
 "metadata": {
  "kernelspec": {
   "display_name": "Python 3",
   "language": "python",
   "name": "python3"
  },
  "language_info": {
   "codemirror_mode": {
    "name": "ipython",
    "version": 3
   },
   "file_extension": ".py",
   "mimetype": "text/x-python",
   "name": "python",
   "nbconvert_exporter": "python",
   "pygments_lexer": "ipython3",
   "version": "3.7.3"
  },
  "toc": {
   "base_numbering": 1,
   "nav_menu": {},
   "number_sections": false,
   "sideBar": false,
   "skip_h1_title": false,
   "title_cell": "Table of Contents",
   "title_sidebar": "Contents",
   "toc_cell": false,
   "toc_position": {},
   "toc_section_display": false,
   "toc_window_display": false
  }
 },
 "nbformat": 4,
 "nbformat_minor": 2
}
